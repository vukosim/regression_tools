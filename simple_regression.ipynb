{
 "metadata": {
  "name": "Simple Linear Regression adapted from http://www.students.ncl.ac.uk/tom.holderness/software/pythonlinearfit"
 },
 "nbformat": 3,
 "nbformat_minor": 0,
 "worksheets": [
  {
   "cells": [
    {
     "cell_type": "code",
     "collapsed": false,
     "input": "import numpy as np\nimport matplotlib.pyplot as plt",
     "language": "python",
     "metadata": {},
     "outputs": [],
     "prompt_number": 1
    },
    {
     "cell_type": "code",
     "collapsed": false,
     "input": "# example data\nx = np.array([4.0,2.5,3.2,5.8,7.4,4.4,8.3,8.5])\ny = np.array([2.1,4.0,1.5,6.3,5.0,5.8,8.1,7.1])",
     "language": "python",
     "metadata": {},
     "outputs": [],
     "prompt_number": 2
    },
    {
     "cell_type": "code",
     "collapsed": false,
     "input": "# fit a curve to the data using a least squares 1st order polynomial fit\nz = np.polyfit(x,y,1)\np = np.poly1d(z)\nfit = p(x)",
     "language": "python",
     "metadata": {},
     "outputs": [],
     "prompt_number": 3
    },
    {
     "cell_type": "code",
     "collapsed": false,
     "input": "# get the coordinates for the fit curve    \nc_y = [np.min(fit),np.max(fit)]\nc_x = [np.min(x),np.max(x)]\n",
     "language": "python",
     "metadata": {},
     "outputs": [],
     "prompt_number": 4
    },
    {
     "cell_type": "code",
     "collapsed": false,
     "input": "# predict y values of original data using the fit\np_y = z[0] * x + z[1] \n \n# calculate the y-error (residuals)\ny_err = y -p_y \n \n# create series of new test x-values to predict for\np_x = np.arange(np.min(x),np.max(x)+1,1)",
     "language": "python",
     "metadata": {},
     "outputs": [],
     "prompt_number": 5
    },
    {
     "cell_type": "code",
     "collapsed": false,
     "input": "# now calculate confidence intervals for new test x-series\nmean_x = np.mean(x)         # mean of x\nn = len(x)              # number of samples in origional fit\nt = 2.31                # appropriate t value (where n=9, two tailed 95%)\ns_err = np.sum(np.power(y_err,2))   # sum of the squares of the residuals\n \nconfs = t * np.sqrt((s_err/(n-2))*(1.0/n + (np.power((p_x-mean_x),2)/\n            ((np.sum(np.power(x,2)))-n*(np.power(mean_x,2))))))",
     "language": "python",
     "metadata": {},
     "outputs": [],
     "prompt_number": 6
    },
    {
     "cell_type": "code",
     "collapsed": false,
     "input": "# now predict y based on test x-values\np_y = z[0]*p_x+z[0]\n \n# get lower and upper confidence limits based on predicted y and confidence intervals\nlower = p_y - abs(confs)\nupper = p_y + abs(confs)",
     "language": "python",
     "metadata": {},
     "outputs": [],
     "prompt_number": 7
    },
    {
     "cell_type": "code",
     "collapsed": false,
     "input": "# set-up the plot\nplt.axes().set_aspect('equal')\nplt.xlabel('X values')\nplt.ylabel('Y values')\nplt.title('Linear regression and confidence limits')\n \n# plot sample data\nplt.plot(x,y,'bo',label='Sample observations')\n \n# plot line of best fit\nplt.plot(c_x,c_y,'r-',label='Regression line')\n \n# plot confidence limits\nplt.plot(p_x,lower,'b--',label='Lower confidence limit (95%)')\nplt.plot(p_x,upper,'b--',label='Upper confidence limit (95%)')\n \n# set coordinate limits\nplt.xlim(0,11)\nplt.ylim(0,11) \n \n# configure legend\nplt.legend(loc=0)\nleg = plt.gca().get_legend()\nltext = leg.get_texts()\nplt.setp(ltext, fontsize=10)\n \n# show the plot\nplt.show()",
     "language": "python",
     "metadata": {},
     "outputs": [],
     "prompt_number": "*"
    },
    {
     "cell_type": "code",
     "collapsed": false,
     "input": "",
     "language": "python",
     "metadata": {},
     "outputs": []
    }
   ],
   "metadata": {}
  }
 ]
}
